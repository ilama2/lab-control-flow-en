{
  "cells": [
    {
      "cell_type": "markdown",
      "metadata": {
        "id": "HIFampDsB_aJ"
      },
      "source": [
        "## Words"
      ]
    },
    {
      "cell_type": "code",
      "execution_count": 2,
      "metadata": {
        "id": "UFFSQzpOB_aL"
      },
      "outputs": [],
      "source": [
        "words = ['play', 'filling', 'bar', 'theatre', 'easygoing', 'date', 'lead', 'that', 'story',  'island']"
      ]
    },
    {
      "cell_type": "markdown",
      "metadata": {
        "id": "kzwCU73KB_aM"
      },
      "source": [
        "**Print every word in upper case**"
      ]
    },
    {
      "cell_type": "code",
      "execution_count": 3,
      "metadata": {
        "colab": {
          "base_uri": "https://localhost:8080/"
        },
        "id": "KQiBinGRB_aM",
        "outputId": "06e97430-8fed-4f50-e90a-8f9d5e991fce"
      },
      "outputs": [
        {
          "output_type": "stream",
          "name": "stdout",
          "text": [
            "PLAY\n",
            "FILLING\n",
            "BAR\n",
            "THEATRE\n",
            "EASYGOING\n",
            "DATE\n",
            "LEAD\n",
            "THAT\n",
            "STORY\n",
            "ISLAND\n"
          ]
        }
      ],
      "source": [
        "# your code here\n",
        "for i in words:\n",
        "  print(i.upper())"
      ]
    },
    {
      "cell_type": "markdown",
      "metadata": {
        "id": "T8g_XGsAB_aN"
      },
      "source": [
        "**Create a new list containing only words with 5 or more letters**"
      ]
    },
    {
      "cell_type": "code",
      "execution_count": 4,
      "metadata": {
        "colab": {
          "base_uri": "https://localhost:8080/"
        },
        "id": "sF-0bh9_B_aN",
        "outputId": "71e27d22-de4b-4fcf-a98b-82b506899ffe"
      },
      "outputs": [
        {
          "output_type": "execute_result",
          "data": {
            "text/plain": [
              "['filling', 'theatre', 'easygoing', 'story', 'island']"
            ]
          },
          "metadata": {},
          "execution_count": 4
        }
      ],
      "source": [
        "# your code here\n",
        "new_list = []\n",
        "for i in words:\n",
        "  if len(i) >=5:\n",
        "    new_list.append(i)\n",
        "new_list"
      ]
    },
    {
      "cell_type": "markdown",
      "metadata": {
        "id": "AX7nyvMIB_aN"
      },
      "source": [
        "**Print the first word starting with \"t\"**"
      ]
    },
    {
      "cell_type": "code",
      "execution_count": 5,
      "metadata": {
        "colab": {
          "base_uri": "https://localhost:8080/"
        },
        "id": "RVrm6fqfB_aO",
        "outputId": "a6ab7c01-4f2c-4308-8cf1-8576ead586d2"
      },
      "outputs": [
        {
          "output_type": "stream",
          "name": "stdout",
          "text": [
            "theatre\n",
            "that\n"
          ]
        }
      ],
      "source": [
        "# your code here\n",
        "for i in words:\n",
        "  if i[0] == 't':\n",
        "    print(i)"
      ]
    },
    {
      "cell_type": "markdown",
      "metadata": {
        "id": "UV_i5z2IB_aO"
      },
      "source": [
        "## Numbers"
      ]
    },
    {
      "cell_type": "markdown",
      "metadata": {
        "id": "UrKG74u4B_aO"
      },
      "source": [
        "**Create a list containing the square of every number from 1 to 10**"
      ]
    },
    {
      "cell_type": "code",
      "execution_count": 6,
      "metadata": {
        "colab": {
          "base_uri": "https://localhost:8080/"
        },
        "id": "8-aW6atrB_aO",
        "outputId": "b2f0e0b9-037a-42ae-96b2-fdd76a571623"
      },
      "outputs": [
        {
          "output_type": "execute_result",
          "data": {
            "text/plain": [
              "[1, 4, 9, 16, 25, 36, 49, 64, 81, 100]"
            ]
          },
          "metadata": {},
          "execution_count": 6
        }
      ],
      "source": [
        "# your code here\n",
        "square = []\n",
        "for i in range(1,11):\n",
        "  square.append(i**2)\n",
        "square"
      ]
    },
    {
      "cell_type": "markdown",
      "metadata": {
        "id": "hAf9mw0UB_aP"
      },
      "source": [
        "**Print a list containing the square of every odd number from 1 to 10**"
      ]
    },
    {
      "cell_type": "code",
      "execution_count": 9,
      "metadata": {
        "colab": {
          "base_uri": "https://localhost:8080/"
        },
        "id": "9FFJQoRgB_aP",
        "outputId": "b3cb4d2d-ca01-4b0d-ae91-9bda39700e6f"
      },
      "outputs": [
        {
          "output_type": "execute_result",
          "data": {
            "text/plain": [
              "[4, 16, 36, 64, 100]"
            ]
          },
          "metadata": {},
          "execution_count": 9
        }
      ],
      "source": [
        "# your code here\n",
        "square_odd = []\n",
        "for i in range(1,11):\n",
        "  if i%2 !=0:\n",
        "    continue\n",
        "  square_odd.append(i**2)\n",
        "square_odd"
      ]
    },
    {
      "cell_type": "markdown",
      "metadata": {
        "id": "AnYGrQijB_aP"
      },
      "source": [
        "**Create a list with the squares of all multiples of 8 below 1000**"
      ]
    },
    {
      "cell_type": "code",
      "execution_count": 11,
      "metadata": {
        "colab": {
          "base_uri": "https://localhost:8080/"
        },
        "id": "StkVvZYeB_aP",
        "outputId": "4215c1ae-bbb9-41b2-92e1-f7dd817c60ba"
      },
      "outputs": [
        {
          "output_type": "execute_result",
          "data": {
            "text/plain": [
              "[64,\n",
              " 256,\n",
              " 576,\n",
              " 1024,\n",
              " 1600,\n",
              " 2304,\n",
              " 3136,\n",
              " 4096,\n",
              " 5184,\n",
              " 6400,\n",
              " 7744,\n",
              " 9216,\n",
              " 10816,\n",
              " 12544,\n",
              " 14400,\n",
              " 16384,\n",
              " 18496,\n",
              " 20736,\n",
              " 23104,\n",
              " 25600,\n",
              " 28224,\n",
              " 30976,\n",
              " 33856,\n",
              " 36864,\n",
              " 40000,\n",
              " 43264,\n",
              " 46656,\n",
              " 50176,\n",
              " 53824,\n",
              " 57600,\n",
              " 61504,\n",
              " 65536,\n",
              " 69696,\n",
              " 73984,\n",
              " 78400,\n",
              " 82944,\n",
              " 87616,\n",
              " 92416,\n",
              " 97344,\n",
              " 102400,\n",
              " 107584,\n",
              " 112896,\n",
              " 118336,\n",
              " 123904,\n",
              " 129600,\n",
              " 135424,\n",
              " 141376,\n",
              " 147456,\n",
              " 153664,\n",
              " 160000,\n",
              " 166464,\n",
              " 173056,\n",
              " 179776,\n",
              " 186624,\n",
              " 193600,\n",
              " 200704,\n",
              " 207936,\n",
              " 215296,\n",
              " 222784,\n",
              " 230400,\n",
              " 238144,\n",
              " 246016,\n",
              " 254016,\n",
              " 262144,\n",
              " 270400,\n",
              " 278784,\n",
              " 287296,\n",
              " 295936,\n",
              " 304704,\n",
              " 313600,\n",
              " 322624,\n",
              " 331776,\n",
              " 341056,\n",
              " 350464,\n",
              " 360000,\n",
              " 369664,\n",
              " 379456,\n",
              " 389376,\n",
              " 399424,\n",
              " 409600,\n",
              " 419904,\n",
              " 430336,\n",
              " 440896,\n",
              " 451584,\n",
              " 462400,\n",
              " 473344,\n",
              " 484416,\n",
              " 495616,\n",
              " 506944,\n",
              " 518400,\n",
              " 529984,\n",
              " 541696,\n",
              " 553536,\n",
              " 565504,\n",
              " 577600,\n",
              " 589824,\n",
              " 602176,\n",
              " 614656,\n",
              " 627264,\n",
              " 640000,\n",
              " 652864,\n",
              " 665856,\n",
              " 678976,\n",
              " 692224,\n",
              " 705600,\n",
              " 719104,\n",
              " 732736,\n",
              " 746496,\n",
              " 760384,\n",
              " 774400,\n",
              " 788544,\n",
              " 802816,\n",
              " 817216,\n",
              " 831744,\n",
              " 846400,\n",
              " 861184,\n",
              " 876096,\n",
              " 891136,\n",
              " 906304,\n",
              " 921600,\n",
              " 937024,\n",
              " 952576,\n",
              " 968256,\n",
              " 984064]"
            ]
          },
          "metadata": {},
          "execution_count": 11
        }
      ],
      "source": [
        "# your code here\n",
        "Square_8 = []\n",
        "for i in range(1,1000):\n",
        "  if i%8 ==0:\n",
        "    Square_8.append(i**2)\n",
        "Square_8"
      ]
    },
    {
      "cell_type": "markdown",
      "metadata": {
        "id": "0q0OWZIfB_aP"
      },
      "source": [
        "## People"
      ]
    },
    {
      "cell_type": "code",
      "execution_count": 12,
      "metadata": {
        "id": "23oRWIyTB_aP"
      },
      "outputs": [],
      "source": [
        "people = [\n",
        "    {\n",
        "        \"name\": \"Juan\",\n",
        "        \"age\": 34,\n",
        "        \"n_kids\": 2\n",
        "    },\n",
        "    {\n",
        "        \"name\": \"Pepe\",\n",
        "        \"age\": 27,\n",
        "        \"n_kids\": 0\n",
        "    },\n",
        "    {\n",
        "        \"name\": \"Sonia\",\n",
        "        \"age\": 41,\n",
        "        \"n_kids\": 1\n",
        "    },\n",
        "    {\n",
        "        \"name\": \"Lucía\",\n",
        "        \"age\": 22,\n",
        "        \"n_kids\": 2\n",
        "    },\n",
        "    {\n",
        "        \"name\": \"Leo\",\n",
        "        \"age\": 55,\n",
        "        \"n_kids\": 5\n",
        "    }\n",
        "]"
      ]
    },
    {
      "cell_type": "markdown",
      "metadata": {
        "id": "s73WQgTwB_aQ"
      },
      "source": [
        "**How many people are there?**"
      ]
    },
    {
      "cell_type": "code",
      "execution_count": 15,
      "metadata": {
        "colab": {
          "base_uri": "https://localhost:8080/"
        },
        "id": "UjJUdNp6B_aQ",
        "outputId": "cbf1546e-b99f-4206-987a-2574837cb5be"
      },
      "outputs": [
        {
          "output_type": "execute_result",
          "data": {
            "text/plain": [
              "5"
            ]
          },
          "metadata": {},
          "execution_count": 15
        }
      ],
      "source": [
        "# your code here\n",
        "len(people)"
      ]
    },
    {
      "cell_type": "markdown",
      "metadata": {
        "id": "qV_TBZ1wB_aQ"
      },
      "source": [
        "**How many people have kids**?"
      ]
    },
    {
      "cell_type": "code",
      "execution_count": 16,
      "metadata": {
        "colab": {
          "base_uri": "https://localhost:8080/"
        },
        "id": "yTa78FB8B_aQ",
        "outputId": "ca288c57-4c6e-4dc0-d54b-b4c5b32e8504"
      },
      "outputs": [
        {
          "output_type": "stream",
          "name": "stdout",
          "text": [
            "4\n"
          ]
        }
      ],
      "source": [
        "# your code here\n",
        "count = 0\n",
        "for i in people:\n",
        "  if i['n_kids']> 0:\n",
        "    count +=1\n",
        "\n",
        "print(count)"
      ]
    },
    {
      "cell_type": "markdown",
      "metadata": {
        "id": "Hkn0GERxB_aR"
      },
      "source": [
        "**How many kids do they have in total?**"
      ]
    },
    {
      "cell_type": "code",
      "execution_count": 17,
      "metadata": {
        "colab": {
          "base_uri": "https://localhost:8080/"
        },
        "id": "ttH7mv8VB_aR",
        "outputId": "5c853b23-3292-4df6-85b4-714f2e985e80"
      },
      "outputs": [
        {
          "output_type": "execute_result",
          "data": {
            "text/plain": [
              "10"
            ]
          },
          "metadata": {},
          "execution_count": 17
        }
      ],
      "source": [
        "# your code here\n",
        "total = 0\n",
        "for i in people:\n",
        "  if i[\"n_kids\"] >0:\n",
        "    total += i[\"n_kids\"]\n",
        "total"
      ]
    },
    {
      "cell_type": "markdown",
      "metadata": {
        "id": "NVvE30GJB_aR"
      },
      "source": [
        "**In a year's time, names ending with \"a\" will have an extra kid. Create a list of dictionaries with people's info in a year's time**"
      ]
    },
    {
      "cell_type": "code",
      "execution_count": 18,
      "metadata": {
        "colab": {
          "base_uri": "https://localhost:8080/"
        },
        "id": "lJ_nv83CB_aR",
        "outputId": "0d585379-bd11-407f-bc1d-f26fbbe7f318"
      },
      "outputs": [
        {
          "output_type": "execute_result",
          "data": {
            "text/plain": [
              "[{'name': 'Sonia', 'age': 41, 'n_kids': 2},\n",
              " {'name': 'Lucía', 'age': 22, 'n_kids': 3}]"
            ]
          },
          "metadata": {},
          "execution_count": 18
        }
      ],
      "source": [
        "# your code here\n",
        "new_people = []\n",
        "for i in people:\n",
        "  if i['name'][-1] == 'a':\n",
        "    i[\"n_kids\"] +=1\n",
        "    new_people.append(i)\n",
        "new_people"
      ]
    },
    {
      "cell_type": "code",
      "source": [],
      "metadata": {
        "id": "h_X4HYjzHJs8"
      },
      "execution_count": null,
      "outputs": []
    }
  ],
  "metadata": {
    "kernelspec": {
      "display_name": "Python 3 (ipykernel)",
      "language": "python",
      "name": "python3"
    },
    "language_info": {
      "codemirror_mode": {
        "name": "ipython",
        "version": 3
      },
      "file_extension": ".py",
      "mimetype": "text/x-python",
      "name": "python",
      "nbconvert_exporter": "python",
      "pygments_lexer": "ipython3",
      "version": "3.9.13"
    },
    "toc": {
      "base_numbering": 1,
      "nav_menu": {},
      "number_sections": false,
      "sideBar": true,
      "skip_h1_title": false,
      "title_cell": "Table of Contents",
      "title_sidebar": "Contents",
      "toc_cell": false,
      "toc_position": {},
      "toc_section_display": true,
      "toc_window_display": true
    },
    "varInspector": {
      "cols": {
        "lenName": 16,
        "lenType": 16,
        "lenVar": 40
      },
      "kernels_config": {
        "python": {
          "delete_cmd_postfix": "",
          "delete_cmd_prefix": "del ",
          "library": "var_list.py",
          "varRefreshCmd": "print(var_dic_list())"
        },
        "r": {
          "delete_cmd_postfix": ") ",
          "delete_cmd_prefix": "rm(",
          "library": "var_list.r",
          "varRefreshCmd": "cat(var_dic_list()) "
        }
      },
      "types_to_exclude": [
        "module",
        "function",
        "builtin_function_or_method",
        "instance",
        "_Feature"
      ],
      "window_display": false
    },
    "vscode": {
      "interpreter": {
        "hash": "aee8b7b246df8f9039afb4144a1f6fd8d2ca17a180786b69acc140d282b71a49"
      }
    },
    "colab": {
      "provenance": []
    }
  },
  "nbformat": 4,
  "nbformat_minor": 0
}